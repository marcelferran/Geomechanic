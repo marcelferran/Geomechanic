{
 "cells": [
  {
   "cell_type": "code",
   "execution_count": 27,
   "id": "e41824fb",
   "metadata": {},
   "outputs": [],
   "source": [
    "#How to Load .xlsx , .csv, .txt and .las files in Python"
   ]
  },
  {
   "cell_type": "code",
   "execution_count": 28,
   "id": "656c7f4f",
   "metadata": {},
   "outputs": [
    {
     "name": "stdout",
     "output_type": "stream",
     "text": [
      "Requirement already satisfied: lasio in c:\\users\\marce\\anaconda3\\lib\\site-packages (0.29)\n",
      "Requirement already satisfied: numpy in c:\\users\\marce\\anaconda3\\lib\\site-packages (from lasio) (1.20.3)\n",
      "Note: you may need to restart the kernel to use updated packages.\n"
     ]
    }
   ],
   "source": [
    "pip install lasio"
   ]
  },
  {
   "cell_type": "code",
   "execution_count": 29,
   "id": "b15820b4",
   "metadata": {
    "scrolled": true
   },
   "outputs": [],
   "source": [
    "import pandas as pd\n",
    "import matplotlib.pyplot as plt\n",
    "import lasio"
   ]
  },
  {
   "cell_type": "code",
   "execution_count": 30,
   "id": "bbe601b6",
   "metadata": {},
   "outputs": [
    {
     "name": "stdout",
     "output_type": "stream",
     "text": [
      "       MD     TVD Incl Azim    GR    RES\n",
      "0       m       m  deg  deg  gAPI  ohm.m\n",
      "1       0       0    0    0     0      0\n",
      "2  0.1524  0.1524    0    0     0      0\n",
      "3  0.3048  0.3048    0    0     0      0\n",
      "4  0.4572  0.4572    0    0     0      0\n",
      "            MD         TVD       Incl        Azim        GR       RES\n",
      "7291  1110.996  992.708339  31.379999  350.850872  54.50663  10.42315\n",
      "7292  1111.148  992.838464  31.379999  350.850872  54.50663  10.30035\n",
      "7293  1111.301  992.968566  31.379999  350.850872  54.50663  10.24262\n",
      "7294  1111.453   993.09869  31.379999  350.850872  54.50663  10.24392\n",
      "7295  1111.606  993.228814  31.379999  350.850873  54.50663  10.23952\n",
      "\n",
      " * Columns in the excel tab called \"example\"\n",
      "\n",
      " Index(['MD', 'TVD', 'Incl', 'Azim', 'GR', 'RES'], dtype='object')\n",
      "\n",
      " * Number of Rows, Number of Columns\n",
      "\n",
      " (7296, 6) \n",
      "\n",
      "<class 'pandas.core.frame.DataFrame'>\n",
      "RangeIndex: 7296 entries, 0 to 7295\n",
      "Data columns (total 6 columns):\n",
      " #   Column  Non-Null Count  Dtype \n",
      "---  ------  --------------  ----- \n",
      " 0   MD      7296 non-null   object\n",
      " 1   TVD     7296 non-null   object\n",
      " 2   Incl    7296 non-null   object\n",
      " 3   Azim    7296 non-null   object\n",
      " 4   GR      7296 non-null   object\n",
      " 5   RES     7296 non-null   object\n",
      "dtypes: object(6)\n",
      "memory usage: 342.1+ KB\n"
     ]
    }
   ],
   "source": [
    "#Load a .xlxs file:\n",
    "XLXS_File = pd.read_excel(r'C:\\Users\\marce\\MFC\\Jupyter\\G\\Input\\example.xlsx')\n",
    "print(XLXS_File.head())\n",
    "print(XLXS_File.tail())\n",
    "print('\\n', '* Columns in the excel tab called \"example\"')\n",
    "print('\\n', XLXS_File.columns)\n",
    "print('\\n', '* Number of Rows, Number of Columns')\n",
    "print('\\n', XLXS_File.shape, '\\n')\n",
    "XLXS_File.info()"
   ]
  },
  {
   "cell_type": "code",
   "execution_count": 31,
   "id": "0c066a4b",
   "metadata": {},
   "outputs": [
    {
     "name": "stdout",
     "output_type": "stream",
     "text": [
      "       MD     TVD Incl Azim    GR    RES\n",
      "0       m       m  deg  deg  gAPI  ohm.m\n",
      "1       0       0    0    0     0      0\n",
      "2  0.1524  0.1524    0    0     0      0\n",
      "3  0.3048  0.3048    0    0     0      0\n",
      "4  0.4572  0.4572    0    0     0      0\n",
      "            MD          TVD       Incl         Azim        GR       RES\n",
      "7291  1110.996  992.7083393  31.379999  350.8508719  54.50663  10.42315\n",
      "7292  1111.148  992.8384636  31.379999   350.850872  54.50663  10.30035\n",
      "7293  1111.301  992.9685657  31.379999  350.8508722  54.50663  10.24262\n",
      "7294  1111.453  993.0986895  31.379999  350.8508723  54.50663  10.24392\n",
      "7295  1111.606  993.2288139  31.379999  350.8508727  54.50663  10.23952\n",
      "\n",
      " * Columns in the csv tab called \"example\"\n",
      "\n",
      " Index(['MD', 'TVD', 'Incl', 'Azim', 'GR', 'RES'], dtype='object')\n",
      "\n",
      " * Number of Rows, Number of Columns\n",
      "\n",
      " (7296, 6) \n",
      "\n",
      "<class 'pandas.core.frame.DataFrame'>\n",
      "RangeIndex: 7296 entries, 0 to 7295\n",
      "Data columns (total 6 columns):\n",
      " #   Column  Non-Null Count  Dtype \n",
      "---  ------  --------------  ----- \n",
      " 0   MD      7296 non-null   object\n",
      " 1   TVD     7296 non-null   object\n",
      " 2   Incl    7296 non-null   object\n",
      " 3   Azim    7296 non-null   object\n",
      " 4   GR      7296 non-null   object\n",
      " 5   RES     7296 non-null   object\n",
      "dtypes: object(6)\n",
      "memory usage: 342.1+ KB\n"
     ]
    }
   ],
   "source": [
    "#Load a .csv file:\n",
    "CSV_File = pd.read_csv(r'C:\\Users\\marce\\MFC\\Jupyter\\G\\Input\\example.csv')\n",
    "print(CSV_File.head())\n",
    "print(CSV_File.tail())\n",
    "print('\\n', '* Columns in the csv tab called \"example\"')\n",
    "print('\\n', CSV_File.columns)\n",
    "print('\\n', '* Number of Rows, Number of Columns')\n",
    "print('\\n', CSV_File.shape, '\\n')\n",
    "CSV_File.info()"
   ]
  },
  {
   "cell_type": "code",
   "execution_count": 32,
   "id": "8f02be72",
   "metadata": {},
   "outputs": [
    {
     "name": "stdout",
     "output_type": "stream",
     "text": [
      "       MD     TVD Incl Azim    GR    RES\n",
      "0       m       m  deg  deg  gAPI  ohm.m\n",
      "1  0.0000  0.0000    0    0     0      0\n",
      "2  0.1524  0.1524    0    0     0      0\n",
      "3  0.3048  0.3048    0    0     0      0\n",
      "4  0.4572  0.4572    0    0     0      0\n",
      "            MD          TVD       Incl         Azim        GR       RES\n",
      "7291  1110.996  992.7083393  31.379999  350.8508719  54.50663  10.42315\n",
      "7292  1111.148  992.8384636  31.379999   350.850872  54.50663  10.30035\n",
      "7293  1111.301  992.9685657  31.379999  350.8508722  54.50663  10.24262\n",
      "7294  1111.453  993.0986895  31.379999  350.8508723  54.50663  10.24392\n",
      "7295  1111.606  993.2288139  31.379999  350.8508727  54.50663  10.23952\n",
      "\n",
      " * Columns in the txt file \"example\"\n",
      "\n",
      " Index(['MD', 'TVD', 'Incl', 'Azim', 'GR', 'RES'], dtype='object')\n",
      "\n",
      " * Number of Rows, Number of Columns\n",
      "\n",
      " (7296, 6) \n",
      "\n",
      "<class 'pandas.core.frame.DataFrame'>\n",
      "RangeIndex: 7296 entries, 0 to 7295\n",
      "Data columns (total 6 columns):\n",
      " #   Column  Non-Null Count  Dtype \n",
      "---  ------  --------------  ----- \n",
      " 0   MD      7296 non-null   object\n",
      " 1   TVD     7296 non-null   object\n",
      " 2   Incl    7296 non-null   object\n",
      " 3   Azim    7296 non-null   object\n",
      " 4   GR      7296 non-null   object\n",
      " 5   RES     7296 non-null   object\n",
      "dtypes: object(6)\n",
      "memory usage: 342.1+ KB\n"
     ]
    }
   ],
   "source": [
    "#Load a .txt file:\n",
    "TXT_File = pd.read_csv(r'C:\\Users\\marce\\MFC\\Jupyter\\G\\Input\\example.txt', sep=\"\\t\")\n",
    "print(TXT_File.head())\n",
    "print(TXT_File.tail())\n",
    "print('\\n', '* Columns in the txt file \"example\"')\n",
    "print('\\n', TXT_File.columns)\n",
    "print('\\n', '* Number of Rows, Number of Columns')\n",
    "print('\\n', TXT_File.shape, '\\n')\n",
    "TXT_File.info()"
   ]
  },
  {
   "cell_type": "code",
   "execution_count": 40,
   "id": "ca6d45cc",
   "metadata": {
    "scrolled": true
   },
   "outputs": [],
   "source": [
    "#Load a .las file:\n",
    "LAS_File = lasio.read(r'C:\\\\Users\\marce\\MFC\\Jupyter\\G\\Input\\example.las')"
   ]
  },
  {
   "cell_type": "code",
   "execution_count": 34,
   "id": "75c5003c",
   "metadata": {
    "scrolled": true
   },
   "outputs": [
    {
     "name": "stdout",
     "output_type": "stream",
     "text": [
      "START DEPTH (STRT): 0.0\n",
      "STOP DEPTH (STOP): 1111.606\n",
      "STEP (STEP): 0.1524\n",
      "NULL VALUE (NULL): -999.25\n",
      "COMPANY (COMP): \n",
      "WELL (WELL): \n",
      "FIELD (FLD): \n",
      "LOCATION (LOC): UNKNOWN\n",
      "COUNTY (CNTY): \n",
      "STATE (STAT): \n",
      "COUNTRY (CTRY): \n",
      "SERVICE COMPANY (SRVC): UNKNOWN\n",
      "LOG DATE (DATE): UNKNOWN\n",
      "UNIQUE WELL ID (UWI): \n",
      "SURFACE X (XCOORD): \n",
      "SURFACE Y (YCOORD): \n",
      "LATITUDE (LAT): \n",
      "LONGITUDE (LON): \n",
      "SURFACE ELEV (ELEV): 10.0\n",
      "ELEV TYPE (ELEV_TYPE): KB\n"
     ]
    }
   ],
   "source": [
    "#Information is in the Header of the .las file:\n",
    "for item in LAS_File.well:\n",
    "    print(f\"{item.descr} ({item.mnemonic}): {item.value}\")"
   ]
  },
  {
   "cell_type": "code",
   "execution_count": 35,
   "id": "12ecb28d",
   "metadata": {
    "scrolled": true
   },
   "outputs": [
    {
     "name": "stdout",
     "output_type": "stream",
     "text": [
      "MD\n",
      "TVD\n",
      "INCL\n",
      "AZIM\n",
      "GR\n",
      "RES\n"
     ]
    }
   ],
   "source": [
    "#Curves the .las file:\n",
    "for curve in LAS_File.curves:\n",
    "    print(curve.mnemonic)"
   ]
  },
  {
   "cell_type": "code",
   "execution_count": 51,
   "id": "09ad000d",
   "metadata": {
    "scrolled": false
   },
   "outputs": [
    {
     "name": "stdout",
     "output_type": "stream",
     "text": [
      "Curve: MD, Units: m, Description: \n",
      "Curve: TVD, Units: m, Description: \n",
      "Curve: INCL, Units: deg, Description: \n",
      "Curve: AZIM, Units: deg, Description: \n",
      "Curve: GR, Units: gAPI, Description: \n",
      "Curve: RES, Units: ohm.m, Description: \n",
      "Total Curves: 6\n"
     ]
    }
   ],
   "source": [
    "#Curves, Units and Description in the .las file:\n",
    "for count, curve in enumerate(LAS_File.curves):\n",
    "    print(f\"Curve: {curve.mnemonic}, Units: {curve.unit}, Description: {curve.descr}\")\n",
    "print(f\"Total Curves: {count+1}\")"
   ]
  },
  {
   "cell_type": "code",
   "execution_count": 49,
   "id": "ac3614b9",
   "metadata": {
    "scrolled": false
   },
   "outputs": [],
   "source": [
    "#Create a DataFrame from the .las file:\n",
    "curves=LAS_File.df()\n",
    "curves.reset_index(inplace=True)"
   ]
  },
  {
   "cell_type": "code",
   "execution_count": 50,
   "id": "5cfb6dd3",
   "metadata": {
    "scrolled": false
   },
   "outputs": [
    {
     "name": "stdout",
     "output_type": "stream",
     "text": [
      "       MD     TVD  INCL  AZIM   GR  RES\n",
      "0  0.0000  0.0000   0.0   0.0  0.0  0.0\n",
      "1  0.1524  0.1524   0.0   0.0  0.0  0.0\n",
      "2  0.3048  0.3048   0.0   0.0  0.0  0.0\n",
      "3  0.4572  0.4572   0.0   0.0  0.0  0.0\n",
      "4  0.6096  0.6096   0.0   0.0  0.0  0.0\n",
      "            MD         TVD       INCL        AZIM        GR       RES\n",
      "7290  1110.996  992.708339  31.379999  350.850872  54.50663  10.42315\n",
      "7291  1111.148  992.838464  31.379999  350.850872  54.50663  10.30035\n",
      "7292  1111.301  992.968566  31.379999  350.850872  54.50663  10.24262\n",
      "7293  1111.453  993.098689  31.379999  350.850872  54.50663  10.24392\n",
      "7294  1111.606  993.228814  31.379999  350.850873  54.50663  10.23952\n",
      "\n",
      " * Columns in the las file called \"example\"\n",
      "\n",
      " Index(['MD', 'TVD', 'INCL', 'AZIM', 'GR', 'RES'], dtype='object')\n",
      "\n",
      " * Number of Rows, Number of Columns\n",
      "\n",
      " (7295, 6) \n",
      "\n",
      "<class 'pandas.core.frame.DataFrame'>\n",
      "RangeIndex: 7295 entries, 0 to 7294\n",
      "Data columns (total 6 columns):\n",
      " #   Column  Non-Null Count  Dtype  \n",
      "---  ------  --------------  -----  \n",
      " 0   MD      7295 non-null   float64\n",
      " 1   TVD     7295 non-null   float64\n",
      " 2   INCL    7295 non-null   float64\n",
      " 3   AZIM    7295 non-null   float64\n",
      " 4   GR      7295 non-null   float64\n",
      " 5   RES     7295 non-null   float64\n",
      "dtypes: float64(6)\n",
      "memory usage: 342.1 KB\n"
     ]
    }
   ],
   "source": [
    "#Print the information in the .las fie:\n",
    "print(curves.head())\n",
    "print(curves.tail())\n",
    "print('\\n', '* Columns in the las file called \"example\"')\n",
    "print('\\n', curves.columns)\n",
    "print('\\n', '* Number of Rows, Number of Columns')\n",
    "print('\\n', curves.shape, '\\n')\n",
    "curves.info()"
   ]
  },
  {
   "cell_type": "code",
   "execution_count": 52,
   "id": "c97484ab",
   "metadata": {},
   "outputs": [
    {
     "name": "stdout",
     "output_type": "stream",
     "text": [
      "© MFC\n",
      "Author: Marcel Ferran Castro Ponce de Leon\n",
      "Date: Feb, 04th, 2022\n",
      "Version: 1\n"
     ]
    }
   ],
   "source": [
    "print('\\N{COPYRIGHT SIGN}', 'MFC')\n",
    "print('Author: Marcel Ferran Castro Ponce de Leon')\n",
    "print('Date: Feb, 04th, 2022')\n",
    "print('Version: 1')"
   ]
  },
  {
   "cell_type": "code",
   "execution_count": null,
   "id": "10fcad44",
   "metadata": {},
   "outputs": [],
   "source": []
  }
 ],
 "metadata": {
  "kernelspec": {
   "display_name": "Python 3 (ipykernel)",
   "language": "python",
   "name": "python3"
  },
  "language_info": {
   "codemirror_mode": {
    "name": "ipython",
    "version": 3
   },
   "file_extension": ".py",
   "mimetype": "text/x-python",
   "name": "python",
   "nbconvert_exporter": "python",
   "pygments_lexer": "ipython3",
   "version": "3.9.7"
  }
 },
 "nbformat": 4,
 "nbformat_minor": 5
}
